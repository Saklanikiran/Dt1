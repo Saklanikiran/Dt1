{
 "cells": [
  {
   "cell_type": "markdown",
   "id": "6b8c88a9-b7a7-4b1f-b886-f85491781a76",
   "metadata": {},
   "source": [
    "# Ans : 1"
   ]
  },
  {
   "cell_type": "code",
   "execution_count": null,
   "id": "2bec0d40-589d-4d85-8f84-4d06bf2e7f97",
   "metadata": {},
   "outputs": [],
   "source": [
    "'''\n",
    "A decision tree classifier splits the data into subsets based on feature values, creating branches until it reaches a decision node or leaf.\n",
    "Each leaf represents a class label. It makes predictions by traversing the tree from the root to a leaf node based on the input feature \n",
    "values.\n",
    "\n",
    "'''"
   ]
  },
  {
   "cell_type": "markdown",
   "id": "ececa85d-3566-4fd9-82d8-90f9da2f5d6d",
   "metadata": {},
   "source": [
    "# Ans : 2"
   ]
  },
  {
   "cell_type": "code",
   "execution_count": null,
   "id": "ef16821e-f5d3-4a8c-bd8c-2b1533bd2d65",
   "metadata": {},
   "outputs": [],
   "source": [
    "'''\n",
    "Calculate Impurity: Use metrics like Gini impurity or entropy to measure the impurity of the dataset.\n",
    "Split Data: Choose the feature and threshold that result in the largest impurity reduction.\n",
    "Create Nodes: Split the data at the chosen feature and threshold, creating decision nodes and leaf nodes.\n",
    "Repeat: Recursively apply the above steps to each subset until stopping criteria are met (e.g., maximum depth or minimum samples per leaf).\n",
    "\n",
    "'''"
   ]
  },
  {
   "cell_type": "markdown",
   "id": "e4373350-565f-4a06-9afd-6ea54187d56e",
   "metadata": {},
   "source": [
    "# Ans : 3"
   ]
  },
  {
   "cell_type": "code",
   "execution_count": null,
   "id": "2e0aee14-c40f-44a4-95e8-664309cb8ee7",
   "metadata": {},
   "outputs": [],
   "source": [
    "'''\n",
    "A decision tree classifier for binary classification splits the dataset into two groups at each node based on feature values. \n",
    "This process continues recursively, creating branches until each leaf node contains data predominantly from one class, allowing the tree\n",
    "to classify new data points as one of the two classes.\n",
    "\n",
    "'''"
   ]
  },
  {
   "cell_type": "markdown",
   "id": "d7a7516b-17ac-4e29-b118-86f152ffe367",
   "metadata": {},
   "source": [
    "# Ans : 4"
   ]
  },
  {
   "cell_type": "code",
   "execution_count": null,
   "id": "a357be09-cafc-464e-a492-9325d8fe2961",
   "metadata": {},
   "outputs": [],
   "source": [
    "'''\n",
    "Decision tree classification can be visualized as dividing the feature space into rectangular regions. Each split creates a boundary that\n",
    "separates data points of different classes. Predictions are made by determining which region a new data point falls into, corresponding to\n",
    "the class label of that region.\n",
    "\n",
    "'''"
   ]
  },
  {
   "cell_type": "markdown",
   "id": "0c0f3e2c-8630-4691-b7b6-a7cd5539c01d",
   "metadata": {},
   "source": [
    "# Ans : 5"
   ]
  },
  {
   "cell_type": "code",
   "execution_count": null,
   "id": "ccd11539-62d8-42fa-aa80-ac98558f60df",
   "metadata": {},
   "outputs": [],
   "source": [
    "'''\n"
   ]
  },
  {
   "cell_type": "markdown",
   "id": "50595466-bf68-4845-a695-c9bcbf5fd1b2",
   "metadata": {},
   "source": [
    "# Ans : 7"
   ]
  },
  {
   "cell_type": "code",
   "execution_count": null,
   "id": "a48ee6a0-d369-4f48-9547-5b985412c8d8",
   "metadata": {},
   "outputs": [],
   "source": [
    "'''\n",
    "Choosing the right evaluation metric is crucial as it depends on the problem's context and priorities. For instance, in medical diagnostics, recall is critical to minimize false negatives, whereas in spam detection,\n",
    "precision is vital to reduce false positives. Metrics should align with the specific needs and risks associated with the problem.\n",
    "\n",
    "'''"
   ]
  },
  {
   "cell_type": "markdown",
   "id": "a761b5c6-6f20-40f6-97e9-7d2106e97629",
   "metadata": {},
   "source": [
    "# Ans : 8"
   ]
  },
  {
   "cell_type": "code",
   "execution_count": null,
   "id": "c13c2ea6-6b64-4bfe-a813-94b73d36fcc1",
   "metadata": {},
   "outputs": [],
   "source": [
    "'''\n",
    "In spam email detection, precision is critical because false positives (legitimate emails marked as spam) can result in important messages\n",
    "being missed. High precision ensures that flagged emails are genuinely spam, minimizing the inconvenience of missing crucial emails.\n",
    "\n",
    "'''"
   ]
  },
  {
   "cell_type": "markdown",
   "id": "cd25ae48-7c1a-4337-bb50-b263e53301a4",
   "metadata": {},
   "source": [
    "# Ans : 9"
   ]
  },
  {
   "cell_type": "code",
   "execution_count": null,
   "id": "d805064f-220b-4a6f-beab-629b0417f726",
   "metadata": {},
   "outputs": [],
   "source": [
    "'''\n",
    "In medical diagnosis for a serious disease (e.g., cancer), recall is paramount because false negatives (missed diagnoses) can lead to severe\n",
    "consequences. High recall ensures that most patients with the disease are correctly identified and receive necessary treatment.\n",
    "\n",
    "'''"
   ]
  }
 ],
 "metadata": {
  "kernelspec": {
   "display_name": "Python 3 (ipykernel)",
   "language": "python",
   "name": "python3"
  },
  "language_info": {
   "codemirror_mode": {
    "name": "ipython",
    "version": 3
   },
   "file_extension": ".py",
   "mimetype": "text/x-python",
   "name": "python",
   "nbconvert_exporter": "python",
   "pygments_lexer": "ipython3",
   "version": "3.10.8"
  }
 },
 "nbformat": 4,
 "nbformat_minor": 5
}
